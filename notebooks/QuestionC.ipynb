{
 "cells": [
  {
   "cell_type": "code",
   "execution_count": 1,
   "id": "9b7af801-b9b1-47a6-8b10-c554d04b0445",
   "metadata": {},
   "outputs": [],
   "source": [
    "import pandas as pd\n",
    "import numpy as np\n",
    "import matplotlib.pyplot as plt\n",
    "import scipy.stats as stats\n",
    "from scipy.stats import norm"
   ]
  },
  {
   "cell_type": "markdown",
   "id": "4a5e6bb8-b9e0-4578-98c7-b22ecf55f20f",
   "metadata": {},
   "source": [
    "## a/"
   ]
  },
  {
   "cell_type": "code",
   "execution_count": 7,
   "id": "31aae1fa-52a5-4f35-a016-cb6d59fb675c",
   "metadata": {},
   "outputs": [],
   "source": [
    "data = pd.read_excel('Natixis_ihab.xlsx', header=None, names=['Date', 'Price'])"
   ]
  },
  {
   "cell_type": "code",
   "execution_count": 8,
   "id": "bf307b7e-77ab-4470-80f5-11d3772f9df6",
   "metadata": {},
   "outputs": [
    {
     "data": {
      "text/html": [
       "<div>\n",
       "<style scoped>\n",
       "    .dataframe tbody tr th:only-of-type {\n",
       "        vertical-align: middle;\n",
       "    }\n",
       "\n",
       "    .dataframe tbody tr th {\n",
       "        vertical-align: top;\n",
       "    }\n",
       "\n",
       "    .dataframe thead th {\n",
       "        text-align: right;\n",
       "    }\n",
       "</style>\n",
       "<table border=\"1\" class=\"dataframe\">\n",
       "  <thead>\n",
       "    <tr style=\"text-align: right;\">\n",
       "      <th></th>\n",
       "      <th>Date</th>\n",
       "      <th>Price</th>\n",
       "    </tr>\n",
       "  </thead>\n",
       "  <tbody>\n",
       "    <tr>\n",
       "      <th>0</th>\n",
       "      <td>2015-01-02</td>\n",
       "      <td>5.621</td>\n",
       "    </tr>\n",
       "    <tr>\n",
       "      <th>1</th>\n",
       "      <td>2015-01-05</td>\n",
       "      <td>5.424</td>\n",
       "    </tr>\n",
       "    <tr>\n",
       "      <th>2</th>\n",
       "      <td>2015-01-06</td>\n",
       "      <td>5.329</td>\n",
       "    </tr>\n",
       "    <tr>\n",
       "      <th>3</th>\n",
       "      <td>2015-01-07</td>\n",
       "      <td>5.224</td>\n",
       "    </tr>\n",
       "    <tr>\n",
       "      <th>4</th>\n",
       "      <td>2015-01-08</td>\n",
       "      <td>5.453</td>\n",
       "    </tr>\n",
       "  </tbody>\n",
       "</table>\n",
       "</div>"
      ],
      "text/plain": [
       "        Date  Price\n",
       "0 2015-01-02  5.621\n",
       "1 2015-01-05  5.424\n",
       "2 2015-01-06  5.329\n",
       "3 2015-01-07  5.224\n",
       "4 2015-01-08  5.453"
      ]
     },
     "execution_count": 8,
     "metadata": {},
     "output_type": "execute_result"
    }
   ],
   "source": [
    "data.head()"
   ]
  },
  {
   "cell_type": "code",
   "execution_count": 9,
   "id": "e263602f-4611-417d-a56c-db38318b975d",
   "metadata": {},
   "outputs": [],
   "source": [
    "df['Price'] = pd.to_numeric(df['Price'])\n",
    "df['Return'] = df['Price'].pct_change(1)"
   ]
  },
  {
   "cell_type": "code",
   "execution_count": 10,
   "id": "4dcd914f-dda4-4672-9a1d-4f5b1e37ea21",
   "metadata": {},
   "outputs": [],
   "source": [
    "df.set_index('Date', inplace = True)"
   ]
  },
  {
   "cell_type": "code",
   "execution_count": 11,
   "id": "83ace348-d0d8-42a3-911e-7fd907661041",
   "metadata": {},
   "outputs": [
    {
     "data": {
      "text/html": [
       "<div>\n",
       "<style scoped>\n",
       "    .dataframe tbody tr th:only-of-type {\n",
       "        vertical-align: middle;\n",
       "    }\n",
       "\n",
       "    .dataframe tbody tr th {\n",
       "        vertical-align: top;\n",
       "    }\n",
       "\n",
       "    .dataframe thead th {\n",
       "        text-align: right;\n",
       "    }\n",
       "</style>\n",
       "<table border=\"1\" class=\"dataframe\">\n",
       "  <thead>\n",
       "    <tr style=\"text-align: right;\">\n",
       "      <th></th>\n",
       "      <th>Price</th>\n",
       "      <th>Return</th>\n",
       "    </tr>\n",
       "    <tr>\n",
       "      <th>Date</th>\n",
       "      <th></th>\n",
       "      <th></th>\n",
       "    </tr>\n",
       "  </thead>\n",
       "  <tbody>\n",
       "    <tr>\n",
       "      <th>2015-01-02</th>\n",
       "      <td>5.621</td>\n",
       "      <td>NaN</td>\n",
       "    </tr>\n",
       "    <tr>\n",
       "      <th>2015-01-05</th>\n",
       "      <td>5.424</td>\n",
       "      <td>-0.035047</td>\n",
       "    </tr>\n",
       "    <tr>\n",
       "      <th>2015-01-06</th>\n",
       "      <td>5.329</td>\n",
       "      <td>-0.017515</td>\n",
       "    </tr>\n",
       "    <tr>\n",
       "      <th>2015-01-07</th>\n",
       "      <td>5.224</td>\n",
       "      <td>-0.019704</td>\n",
       "    </tr>\n",
       "    <tr>\n",
       "      <th>2015-01-08</th>\n",
       "      <td>5.453</td>\n",
       "      <td>0.043836</td>\n",
       "    </tr>\n",
       "  </tbody>\n",
       "</table>\n",
       "</div>"
      ],
      "text/plain": [
       "            Price    Return\n",
       "Date                       \n",
       "2015-01-02  5.621       NaN\n",
       "2015-01-05  5.424 -0.035047\n",
       "2015-01-06  5.329 -0.017515\n",
       "2015-01-07  5.224 -0.019704\n",
       "2015-01-08  5.453  0.043836"
      ]
     },
     "execution_count": 11,
     "metadata": {},
     "output_type": "execute_result"
    }
   ],
   "source": [
    "df.head()"
   ]
  },
  {
   "cell_type": "code",
   "execution_count": 13,
   "id": "3749aa02-6c03-4248-8190-60882c7d8032",
   "metadata": {},
   "outputs": [],
   "source": [
    "returns = df['Return'].dropna()"
   ]
  },
  {
   "cell_type": "code",
   "execution_count": 14,
   "id": "580c60e4-8287-45eb-9548-cc12123463e0",
   "metadata": {},
   "outputs": [
    {
     "data": {
      "text/plain": [
       "Date\n",
       "2015-01-05   -0.035047\n",
       "2015-01-06   -0.017515\n",
       "2015-01-07   -0.019704\n",
       "2015-01-08    0.043836\n",
       "2015-01-09   -0.020723\n",
       "Name: Return, dtype: float64"
      ]
     },
     "execution_count": 14,
     "metadata": {},
     "output_type": "execute_result"
    }
   ],
   "source": [
    "returns.head()"
   ]
  },
  {
   "cell_type": "code",
   "execution_count": 15,
   "id": "ebf1e4a5-fb21-4764-88f2-483bde9f8584",
   "metadata": {},
   "outputs": [
    {
     "data": {
      "text/plain": [
       "Date\n",
       "2018-12-21   -0.001481\n",
       "2018-12-24   -0.008653\n",
       "2018-12-27   -0.017955\n",
       "2018-12-28    0.038090\n",
       "2018-12-31    0.007583\n",
       "Name: Return, dtype: float64"
      ]
     },
     "execution_count": 15,
     "metadata": {},
     "output_type": "execute_result"
    }
   ],
   "source": [
    "returns.tail()"
   ]
  },
  {
   "cell_type": "code",
   "execution_count": 16,
   "id": "419f963b-5526-4c74-804f-b9bce05983da",
   "metadata": {},
   "outputs": [],
   "source": [
    "gains = returns[returns > 0]"
   ]
  },
  {
   "cell_type": "code",
   "execution_count": 17,
   "id": "fdb22206-c828-45f9-b5aa-1c19f12f890f",
   "metadata": {},
   "outputs": [
    {
     "data": {
      "text/plain": [
       "Date\n",
       "2015-01-08    0.043836\n",
       "2015-01-13    0.025836\n",
       "2015-01-15    0.020523\n",
       "2015-01-16    0.013284\n",
       "2015-01-19    0.026038\n",
       "Name: Return, dtype: float64"
      ]
     },
     "execution_count": 17,
     "metadata": {},
     "output_type": "execute_result"
    }
   ],
   "source": [
    "gains.head()"
   ]
  },
  {
   "cell_type": "code",
   "execution_count": 18,
   "id": "72a23e83-ed5f-46fd-8b78-f18627567783",
   "metadata": {},
   "outputs": [],
   "source": [
    "sorted_gains = np.sort(gains)"
   ]
  },
  {
   "cell_type": "code",
   "execution_count": 21,
   "id": "d618ef64-fb1f-4d89-8655-0a8f33f84ff9",
   "metadata": {},
   "outputs": [
    {
     "data": {
      "text/plain": [
       "0.00016943409013880917"
      ]
     },
     "execution_count": 21,
     "metadata": {},
     "output_type": "execute_result"
    }
   ],
   "source": [
    "sorted_gains[0]"
   ]
  },
  {
   "cell_type": "code",
   "execution_count": 22,
   "id": "ec232774-c574-485b-8e16-405d1b9bdafe",
   "metadata": {},
   "outputs": [
    {
     "data": {
      "text/plain": [
       "0.09028137407215597"
      ]
     },
     "execution_count": 22,
     "metadata": {},
     "output_type": "execute_result"
    }
   ],
   "source": [
    "sorted_gains[-1]"
   ]
  },
  {
   "cell_type": "code",
   "execution_count": 23,
   "id": "5b72a511-a766-414b-8675-85f1f230b45f",
   "metadata": {},
   "outputs": [],
   "source": [
    "losses = returns[returns < 0]"
   ]
  },
  {
   "cell_type": "code",
   "execution_count": 24,
   "id": "2ac4697e-24a1-4a01-845d-bc7fb95ac6e3",
   "metadata": {},
   "outputs": [],
   "source": [
    "sorted_losses = np.sort(abs(losses))"
   ]
  },
  {
   "cell_type": "code",
   "execution_count": 25,
   "id": "d65b85d7-7337-43de-9f66-edcc0efa5b88",
   "metadata": {},
   "outputs": [
    {
     "data": {
      "text/plain": [
       "Date\n",
       "2015-01-05   -0.035047\n",
       "2015-01-06   -0.017515\n",
       "2015-01-07   -0.019704\n",
       "2015-01-09   -0.020723\n",
       "2015-01-12   -0.014232\n",
       "Name: Return, dtype: float64"
      ]
     },
     "execution_count": 25,
     "metadata": {},
     "output_type": "execute_result"
    }
   ],
   "source": [
    "losses.head()"
   ]
  },
  {
   "cell_type": "code",
   "execution_count": 26,
   "id": "c6f738cf-867f-4a77-8980-f3ecb7d50464",
   "metadata": {},
   "outputs": [
    {
     "data": {
      "text/plain": [
       "0.0001379690949228074"
      ]
     },
     "execution_count": 26,
     "metadata": {},
     "output_type": "execute_result"
    }
   ],
   "source": [
    "sorted_losses[0]"
   ]
  },
  {
   "cell_type": "code",
   "execution_count": 27,
   "id": "9c2ad761-b112-4831-8019-68668b7a7531",
   "metadata": {},
   "outputs": [
    {
     "data": {
      "text/plain": [
       "0.17132530120481937"
      ]
     },
     "execution_count": 27,
     "metadata": {},
     "output_type": "execute_result"
    }
   ],
   "source": [
    "sorted_losses[-1]"
   ]
  },
  {
   "cell_type": "code",
   "execution_count": 31,
   "id": "de1c6ecf-d31f-4d4b-b905-d0083fad2783",
   "metadata": {},
   "outputs": [],
   "source": [
    "# k has to go to infinity but not as fast as n, we choose log(n)\n",
    "def pickands_estimator(extreme_values):\n",
    "    n = len(extreme_values)\n",
    "    k = int(np.log(n))\n",
    "    return ( 1 / np.log(2) ) * np.log( ( extreme_values[n-k+1] \n",
    "                - extreme_values[n-2*k+1] ) / ( extreme_values[n-2*k+1] \n",
    "                - extreme_values[n-4*k+1] ) )"
   ]
  },
  {
   "cell_type": "code",
   "execution_count": 33,
   "id": "9c01e566-100c-4a02-97d3-9c2a3136b8e0",
   "metadata": {},
   "outputs": [],
   "source": [
    "#we then just apply this function to our extreme gains and losses\n",
    "shape_gains = pickands_estimator(sorted_gains)\n",
    "shape_losses = pickands_estimator(sorted_losses)"
   ]
  },
  {
   "cell_type": "code",
   "execution_count": 34,
   "id": "0a75bc6c-c231-439d-a015-ca62b2c62de3",
   "metadata": {},
   "outputs": [
    {
     "data": {
      "text/plain": [
       "(0.7031608888285057, -0.48226718380666483)"
      ]
     },
     "execution_count": 34,
     "metadata": {},
     "output_type": "execute_result"
    }
   ],
   "source": [
    "shape_gains, shape_losses"
   ]
  },
  {
   "cell_type": "markdown",
   "id": "afd997dc-df22-4a7e-b8e1-60bbbbf2881f",
   "metadata": {},
   "source": [
    "## b/"
   ]
  },
  {
   "cell_type": "code",
   "execution_count": 35,
   "id": "eb2dcb4b-caf1-4565-af3a-7d7c2a917db1",
   "metadata": {},
   "outputs": [],
   "source": [
    "# Let's find the threshhols (seuil) using the empirical VaR\n",
    "confidence_level = 0.95\n",
    "def empirical_var(returns, confidence_level):\n",
    "    returns = returns.sort_values(ascending = False)\n",
    "    return -np.percentile(returns, (1 - confidence_level) * 100)"
   ]
  },
  {
   "cell_type": "code",
   "execution_count": 36,
   "id": "a8e21e52-e8f3-4a59-8290-efa7c361d67e",
   "metadata": {},
   "outputs": [
    {
     "name": "stdout",
     "output_type": "stream",
     "text": [
      "\n",
      "Historical VaR at 95.0% confidence level: 0.03174235675624832\n"
     ]
    }
   ],
   "source": [
    "VaR = empirical_var(returns,confidence_level)\n",
    "print(f\"\\nHistorical VaR at {confidence_level * 100}% confidence level: {VaR}\")"
   ]
  },
  {
   "cell_type": "code",
   "execution_count": 57,
   "id": "144d5148-d069-4502-a18a-f06ac398a068",
   "metadata": {},
   "outputs": [],
   "source": [
    "#The second step is finding the exceedances (returns below the seuil)\n",
    "exceedances2 = returns[returns < VaR]"
   ]
  },
  {
   "cell_type": "code",
   "execution_count": 62,
   "id": "f62add45-4722-4f5b-81ca-ce58f1d23ddc",
   "metadata": {},
   "outputs": [],
   "source": [
    "exceedances3 = returns[returns < VaR]"
   ]
  },
  {
   "cell_type": "code",
   "execution_count": 58,
   "id": "497644a2-4688-441e-9e37-53bf485f2677",
   "metadata": {},
   "outputs": [
    {
     "data": {
      "text/plain": [
       "Date\n",
       "2015-01-05   -0.035047\n",
       "2015-01-06   -0.017515\n",
       "2015-01-07   -0.019704\n",
       "2015-01-09   -0.020723\n",
       "2015-01-12   -0.014232\n",
       "Name: Return, dtype: float64"
      ]
     },
     "execution_count": 58,
     "metadata": {},
     "output_type": "execute_result"
    }
   ],
   "source": [
    "exceedances2.head()"
   ]
  },
  {
   "cell_type": "code",
   "execution_count": 59,
   "id": "7a5347e1-23ce-4682-a41b-c798517f0b04",
   "metadata": {},
   "outputs": [],
   "source": [
    "exceedances2['Gap'] = exceedances2.index.to_series().diff().dt.days"
   ]
  },
  {
   "cell_type": "code",
   "execution_count": 60,
   "id": "1d6d3fbd-d134-49f4-8b1c-6834b802dee2",
   "metadata": {},
   "outputs": [
    {
     "name": "stdout",
     "output_type": "stream",
     "text": [
      "count    974.000000\n",
      "mean       1.494867\n",
      "std        0.922191\n",
      "min        1.000000\n",
      "25%        1.000000\n",
      "50%        1.000000\n",
      "75%        1.000000\n",
      "max        5.000000\n",
      "Name: Date, dtype: float64\n",
      "Date\n",
      "1.0    740\n",
      "3.0    184\n",
      "2.0     22\n",
      "4.0     20\n",
      "5.0      8\n",
      "Name: count, dtype: int64\n"
     ]
    }
   ],
   "source": [
    "print(exceedances2['Gap'].describe())\n",
    "print(exceedances2['Gap'].value_counts())"
   ]
  },
  {
   "cell_type": "code",
   "execution_count": 61,
   "id": "214fcba4-6d68-4759-a555-b9cef6825efa",
   "metadata": {},
   "outputs": [
    {
     "data": {
      "image/png": "[encoded data removed]",
      "text/plain": [
       "<Figure size 640x480 with 1 Axes>"
      ]
     },
     "metadata": {},
     "output_type": "display_data"
    }
   ],
   "source": [
    "#Let's check the most frequent gaps\n",
    "plt.hist(exceedances2['Gap'].dropna(), bins=20, edgecolor='black')\n",
    "plt.title('Distribution of Gaps Between Exceedances')\n",
    "plt.xlabel('Gap (days)')\n",
    "plt.ylabel('Frequency')\n",
    "plt.show()"
   ]
  },
  {
   "cell_type": "code",
   "execution_count": 63,
   "id": "7353c171-51ca-4090-b645-5e72c50de3d4",
   "metadata": {},
   "outputs": [],
   "source": [
    "gap = 1  # Define a gap (days) for de-clustering\n",
    "exceedances3['Cluster'] = (exceedances3.index.to_series().diff().dt.days > gap).cumsum()"
   ]
  },
  {
   "cell_type": "code",
   "execution_count": 64,
   "id": "6902663e-33b5-4019-9c42-086e379e0cb7",
   "metadata": {},
   "outputs": [],
   "source": [
    "total_exceedances = len(exceedances3)\n",
    "unique_clusters = exceedances3['Cluster'].nunique()"
   ]
  },
  {
   "cell_type": "code",
   "execution_count": 65,
   "id": "02cbe569-cafb-4ee7-bfe4-3c8c2668e3e7",
   "metadata": {},
   "outputs": [
    {
     "name": "stdout",
     "output_type": "stream",
     "text": [
      "Extremal Index: 0.24077868852459017\n"
     ]
    }
   ],
   "source": [
    "extremal_index = unique_clusters / total_exceedances\n",
    "print(f\"Extremal Index: {extremal_index}\")"
   ]
  },
  {
   "cell_type": "code",
   "execution_count": null,
   "id": "c55cd3ea-dfd6-4c81-9c36-d02dd648ed67",
   "metadata": {},
   "outputs": [],
   "source": []
  }
 ],
 "metadata": {
  "kernelspec": {
   "display_name": "Python 3 (ipykernel)",
   "language": "python",
   "name": "python3"
  },
  "language_info": {
   "codemirror_mode": {
    "name": "ipython",
    "version": 3
   },
   "file_extension": ".py",
   "mimetype": "text/x-python",
   "name": "python",
   "nbconvert_exporter": "python",
   "pygments_lexer": "ipython3",
   "version": "3.11.7"
  }
 },
 "nbformat": 4,
 "nbformat_minor": 5
}
