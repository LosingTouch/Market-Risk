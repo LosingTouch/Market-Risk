{
 "cells": [
  {
   "cell_type": "markdown",
   "id": "3b32e454-dde7-4b8a-8cb1-552065e192bd",
   "metadata": {},
   "source": [
    "We want to calculate the VaR (on the arithmetic variation of price, at a one-day horizon) for a call \n",
    "option on the Natixis stock. We will implement a Monte-Carlo VaR since the call price is a non-linear \n",
    "function of the underlying price, that we are able to model thanks to historical data."
   ]
  },
  {
   "cell_type": "code",
   "execution_count": 1,
   "id": "34d7658b-6b27-48c7-a1dc-c8c85a555da7",
   "metadata": {},
   "outputs": [],
   "source": [
    "import pandas as pd\n",
    "import numpy as np\n",
    "import matplotlib.pyplot as plt"
   ]
  },
  {
   "cell_type": "code",
   "execution_count": 2,
   "id": "b39d9141-877b-4eb3-ace7-98145c8eb98e",
   "metadata": {},
   "outputs": [],
   "source": [
    "df = pd.read_excel('Natixis_ihab.xlsx', header=None, names=['Date', 'Price'])"
   ]
  },
  {
   "cell_type": "code",
   "execution_count": 3,
   "id": "af316b54-8f2e-4e20-b7f6-b1657e4681be",
   "metadata": {},
   "outputs": [
    {
     "data": {
      "text/html": [
       "<div>\n",
       "<style scoped>\n",
       "    .dataframe tbody tr th:only-of-type {\n",
       "        vertical-align: middle;\n",
       "    }\n",
       "\n",
       "    .dataframe tbody tr th {\n",
       "        vertical-align: top;\n",
       "    }\n",
       "\n",
       "    .dataframe thead th {\n",
       "        text-align: right;\n",
       "    }\n",
       "</style>\n",
       "<table border=\"1\" class=\"dataframe\">\n",
       "  <thead>\n",
       "    <tr style=\"text-align: right;\">\n",
       "      <th></th>\n",
       "      <th>Date</th>\n",
       "      <th>Price</th>\n",
       "    </tr>\n",
       "  </thead>\n",
       "  <tbody>\n",
       "    <tr>\n",
       "      <th>0</th>\n",
       "      <td>2015-01-02</td>\n",
       "      <td>5.621</td>\n",
       "    </tr>\n",
       "    <tr>\n",
       "      <th>1</th>\n",
       "      <td>2015-01-05</td>\n",
       "      <td>5.424</td>\n",
       "    </tr>\n",
       "    <tr>\n",
       "      <th>2</th>\n",
       "      <td>2015-01-06</td>\n",
       "      <td>5.329</td>\n",
       "    </tr>\n",
       "    <tr>\n",
       "      <th>3</th>\n",
       "      <td>2015-01-07</td>\n",
       "      <td>5.224</td>\n",
       "    </tr>\n",
       "    <tr>\n",
       "      <th>4</th>\n",
       "      <td>2015-01-08</td>\n",
       "      <td>5.453</td>\n",
       "    </tr>\n",
       "  </tbody>\n",
       "</table>\n",
       "</div>"
      ],
      "text/plain": [
       "        Date  Price\n",
       "0 2015-01-02  5.621\n",
       "1 2015-01-05  5.424\n",
       "2 2015-01-06  5.329\n",
       "3 2015-01-07  5.224\n",
       "4 2015-01-08  5.453"
      ]
     },
     "execution_count": 3,
     "metadata": {},
     "output_type": "execute_result"
    }
   ],
   "source": [
    "df.head()"
   ]
  },
  {
   "cell_type": "markdown",
   "id": "940c62c0-2fa6-4d5a-a686-c56f2ba4dc2f",
   "metadata": {},
   "source": [
    "We will compute the logReturn which is log(St/St-1)"
   ]
  },
  {
   "cell_type": "code",
   "execution_count": 8,
   "id": "48db37d9-7a25-4728-92b4-f93bd92b2251",
   "metadata": {},
   "outputs": [],
   "source": [
    "df.set_index('Date', inplace=True)"
   ]
  },
  {
   "cell_type": "code",
   "execution_count": 9,
   "id": "8a3b5da8-bff9-4293-9b3c-481a1478c45d",
   "metadata": {},
   "outputs": [],
   "source": [
    "df.loc[:,'Log_Return'] = np.log(df.loc[:,'Price']/df.loc[:,'Price'].shift(1))"
   ]
  },
  {
   "cell_type": "code",
   "execution_count": 10,
   "id": "d20ac44c-07d0-42b6-9233-a6930001e67e",
   "metadata": {},
   "outputs": [
    {
     "data": {
      "text/html": [
       "<div>\n",
       "<style scoped>\n",
       "    .dataframe tbody tr th:only-of-type {\n",
       "        vertical-align: middle;\n",
       "    }\n",
       "\n",
       "    .dataframe tbody tr th {\n",
       "        vertical-align: top;\n",
       "    }\n",
       "\n",
       "    .dataframe thead th {\n",
       "        text-align: right;\n",
       "    }\n",
       "</style>\n",
       "<table border=\"1\" class=\"dataframe\">\n",
       "  <thead>\n",
       "    <tr style=\"text-align: right;\">\n",
       "      <th></th>\n",
       "      <th>Price</th>\n",
       "      <th>Log_Return</th>\n",
       "    </tr>\n",
       "    <tr>\n",
       "      <th>Date</th>\n",
       "      <th></th>\n",
       "      <th></th>\n",
       "    </tr>\n",
       "  </thead>\n",
       "  <tbody>\n",
       "    <tr>\n",
       "      <th>2015-01-02</th>\n",
       "      <td>5.621</td>\n",
       "      <td>NaN</td>\n",
       "    </tr>\n",
       "    <tr>\n",
       "      <th>2015-01-05</th>\n",
       "      <td>5.424</td>\n",
       "      <td>-0.035676</td>\n",
       "    </tr>\n",
       "    <tr>\n",
       "      <th>2015-01-06</th>\n",
       "      <td>5.329</td>\n",
       "      <td>-0.017670</td>\n",
       "    </tr>\n",
       "    <tr>\n",
       "      <th>2015-01-07</th>\n",
       "      <td>5.224</td>\n",
       "      <td>-0.019900</td>\n",
       "    </tr>\n",
       "    <tr>\n",
       "      <th>2015-01-08</th>\n",
       "      <td>5.453</td>\n",
       "      <td>0.042903</td>\n",
       "    </tr>\n",
       "  </tbody>\n",
       "</table>\n",
       "</div>"
      ],
      "text/plain": [
       "            Price  Log_Return\n",
       "Date                         \n",
       "2015-01-02  5.621         NaN\n",
       "2015-01-05  5.424   -0.035676\n",
       "2015-01-06  5.329   -0.017670\n",
       "2015-01-07  5.224   -0.019900\n",
       "2015-01-08  5.453    0.042903"
      ]
     },
     "execution_count": 10,
     "metadata": {},
     "output_type": "execute_result"
    }
   ],
   "source": [
    "df.head()"
   ]
  },
  {
   "cell_type": "code",
   "execution_count": 11,
   "id": "332d0593-168d-4a4b-b6a9-a76d64349228",
   "metadata": {},
   "outputs": [
    {
     "data": {
      "text/html": [
       "<div>\n",
       "<style scoped>\n",
       "    .dataframe tbody tr th:only-of-type {\n",
       "        vertical-align: middle;\n",
       "    }\n",
       "\n",
       "    .dataframe tbody tr th {\n",
       "        vertical-align: top;\n",
       "    }\n",
       "\n",
       "    .dataframe thead th {\n",
       "        text-align: right;\n",
       "    }\n",
       "</style>\n",
       "<table border=\"1\" class=\"dataframe\">\n",
       "  <thead>\n",
       "    <tr style=\"text-align: right;\">\n",
       "      <th></th>\n",
       "      <th>Price</th>\n",
       "      <th>Log_Return</th>\n",
       "    </tr>\n",
       "    <tr>\n",
       "      <th>Date</th>\n",
       "      <th></th>\n",
       "      <th></th>\n",
       "    </tr>\n",
       "  </thead>\n",
       "  <tbody>\n",
       "    <tr>\n",
       "      <th>2018-12-21</th>\n",
       "      <td>4.045</td>\n",
       "      <td>-0.001482</td>\n",
       "    </tr>\n",
       "    <tr>\n",
       "      <th>2018-12-24</th>\n",
       "      <td>4.010</td>\n",
       "      <td>-0.008690</td>\n",
       "    </tr>\n",
       "    <tr>\n",
       "      <th>2018-12-27</th>\n",
       "      <td>3.938</td>\n",
       "      <td>-0.018118</td>\n",
       "    </tr>\n",
       "    <tr>\n",
       "      <th>2018-12-28</th>\n",
       "      <td>4.088</td>\n",
       "      <td>0.037383</td>\n",
       "    </tr>\n",
       "    <tr>\n",
       "      <th>2018-12-31</th>\n",
       "      <td>4.119</td>\n",
       "      <td>0.007555</td>\n",
       "    </tr>\n",
       "  </tbody>\n",
       "</table>\n",
       "</div>"
      ],
      "text/plain": [
       "            Price  Log_Return\n",
       "Date                         \n",
       "2018-12-21  4.045   -0.001482\n",
       "2018-12-24  4.010   -0.008690\n",
       "2018-12-27  3.938   -0.018118\n",
       "2018-12-28  4.088    0.037383\n",
       "2018-12-31  4.119    0.007555"
      ]
     },
     "execution_count": 11,
     "metadata": {},
     "output_type": "execute_result"
    }
   ],
   "source": [
    "df.tail()"
   ]
  },
  {
   "cell_type": "markdown",
   "id": "ae2a6a56-5d97-4ed4-890d-4dc50b31b4f5",
   "metadata": {},
   "source": [
    "On va calculer le lissage car on va porter moins d'importance aux données lointaines"
   ]
  },
  {
   "cell_type": "code",
   "execution_count": 27,
   "id": "1a1b4455-2dad-4860-b027-694d7393eb64",
   "metadata": {},
   "outputs": [],
   "source": [
    "lissage = 0.6\n",
    "df.loc[\"2015-01-05\", \"Returns_lissés\"] = df.loc[\"2015-01-05\", \"Log_Return\"]\n",
    "df.loc[\"2015-01-06\":, \"Returns_lissés\"] = df.loc[\"2015-01-06\":,\"Log_Return\"]*lissage + df.loc[\"2015-01-06\":,\"Log_Return\"].shift(-1)*(1-lissage)"
   ]
  },
  {
   "cell_type": "code",
   "execution_count": 28,
   "id": "e28ce0f4-c55a-4b6b-904c-c842ea30e1dd",
   "metadata": {},
   "outputs": [
    {
     "data": {
      "text/html": [
       "<div>\n",
       "<style scoped>\n",
       "    .dataframe tbody tr th:only-of-type {\n",
       "        vertical-align: middle;\n",
       "    }\n",
       "\n",
       "    .dataframe tbody tr th {\n",
       "        vertical-align: top;\n",
       "    }\n",
       "\n",
       "    .dataframe thead th {\n",
       "        text-align: right;\n",
       "    }\n",
       "</style>\n",
       "<table border=\"1\" class=\"dataframe\">\n",
       "  <thead>\n",
       "    <tr style=\"text-align: right;\">\n",
       "      <th></th>\n",
       "      <th>Price</th>\n",
       "      <th>Log_Return</th>\n",
       "      <th>Returns_lissés</th>\n",
       "    </tr>\n",
       "    <tr>\n",
       "      <th>Date</th>\n",
       "      <th></th>\n",
       "      <th></th>\n",
       "      <th></th>\n",
       "    </tr>\n",
       "  </thead>\n",
       "  <tbody>\n",
       "    <tr>\n",
       "      <th>2015-01-02</th>\n",
       "      <td>5.621</td>\n",
       "      <td>NaN</td>\n",
       "      <td>NaN</td>\n",
       "    </tr>\n",
       "    <tr>\n",
       "      <th>2015-01-05</th>\n",
       "      <td>5.424</td>\n",
       "      <td>-0.035676</td>\n",
       "      <td>-0.035676</td>\n",
       "    </tr>\n",
       "    <tr>\n",
       "      <th>2015-01-06</th>\n",
       "      <td>5.329</td>\n",
       "      <td>-0.017670</td>\n",
       "      <td>-0.018562</td>\n",
       "    </tr>\n",
       "    <tr>\n",
       "      <th>2015-01-07</th>\n",
       "      <td>5.224</td>\n",
       "      <td>-0.019900</td>\n",
       "      <td>0.005221</td>\n",
       "    </tr>\n",
       "    <tr>\n",
       "      <th>2015-01-08</th>\n",
       "      <td>5.453</td>\n",
       "      <td>0.042903</td>\n",
       "      <td>0.017365</td>\n",
       "    </tr>\n",
       "  </tbody>\n",
       "</table>\n",
       "</div>"
      ],
      "text/plain": [
       "            Price  Log_Return  Returns_lissés\n",
       "Date                                         \n",
       "2015-01-02  5.621         NaN             NaN\n",
       "2015-01-05  5.424   -0.035676       -0.035676\n",
       "2015-01-06  5.329   -0.017670       -0.018562\n",
       "2015-01-07  5.224   -0.019900        0.005221\n",
       "2015-01-08  5.453    0.042903        0.017365"
      ]
     },
     "execution_count": 28,
     "metadata": {},
     "output_type": "execute_result"
    }
   ],
   "source": [
    "df.head()"
   ]
  },
  {
   "cell_type": "markdown",
   "id": "da1d2f2a-ce80-43bb-83b4-deafc99992dd",
   "metadata": {},
   "source": [
    "Now we're going to simulate a number N (say N=1000 or else, but justify your choice for this number) of prices of \n",
    "the stock in a one-day horizon (we are working at the last date of 2018)\n",
    "meaning that S0 = df.loc[:,'Price'].iloc(-1)\n",
    "Before we have to estimate the mean and the variance of the brownian motion"
   ]
  },
  {
   "cell_type": "code",
   "execution_count": 48,
   "id": "73815c10-1b0f-441f-a101-47dc2ee41ba4",
   "metadata": {},
   "outputs": [
    {
     "data": {
      "text/plain": [
       "(-0.0003020214761685973, 0.015119188513241465)"
      ]
     },
     "execution_count": 48,
     "metadata": {},
     "output_type": "execute_result"
    }
   ],
   "source": [
    "S0 = df[\"Price\"].iloc[-1]  # The last observed price in your dataset\n",
    "log_returns = df.loc[:,\"Returns_lissés\"].dropna()\n",
    "mumoinssigmasur2 = log_returns.mean() #car l'esperance de Ln(St/St-1)=mu - sigma*sigma*1/2\n",
    "sigma = log_returns.std()\n",
    "mumoinssigmasur2,sigma"
   ]
  },
  {
   "cell_type": "code",
   "execution_count": 44,
   "id": "182e531f-cec6-4779-8fb4-31850c2a413a",
   "metadata": {},
   "outputs": [],
   "source": [
    "# Number of future days to simulate\n",
    "n_days = 1000\n",
    "\n",
    "# Generate Brownian motion: Random normal values for each day\n",
    "brownian_motion = np.random.normal(0, 1, n_days)\n",
    "\n",
    "# Calculate the future prices using the formula\n",
    "future_prices = [S0]\n",
    "for i in range(1, n_days):\n",
    "    St = future_prices[i-1] * np.exp(mumoinssigmasur2 + sigma * brownian_motion[i-1])\n",
    "    future_prices.append(St)\n",
    "\n",
    "# Create a date range starting from the next day\n",
    "future_dates = pd.date_range(start=df.index[-1] + pd.Timedelta(days=1), periods=n_days, freq='D')\n",
    "\n",
    "# Create a DataFrame with the future prices\n",
    "future_df = pd.DataFrame(data=future_prices, index=future_dates, columns=[\"Estimated_Price\"])"
   ]
  },
  {
   "cell_type": "code",
   "execution_count": 45,
   "id": "e4bee732-91ed-498d-b998-398984ba900e",
   "metadata": {},
   "outputs": [
    {
     "data": {
      "text/html": [
       "<div>\n",
       "<style scoped>\n",
       "    .dataframe tbody tr th:only-of-type {\n",
       "        vertical-align: middle;\n",
       "    }\n",
       "\n",
       "    .dataframe tbody tr th {\n",
       "        vertical-align: top;\n",
       "    }\n",
       "\n",
       "    .dataframe thead th {\n",
       "        text-align: right;\n",
       "    }\n",
       "</style>\n",
       "<table border=\"1\" class=\"dataframe\">\n",
       "  <thead>\n",
       "    <tr style=\"text-align: right;\">\n",
       "      <th></th>\n",
       "      <th>Estimated_Price</th>\n",
       "    </tr>\n",
       "  </thead>\n",
       "  <tbody>\n",
       "    <tr>\n",
       "      <th>2019-01-01</th>\n",
       "      <td>4.119000</td>\n",
       "    </tr>\n",
       "    <tr>\n",
       "      <th>2019-01-02</th>\n",
       "      <td>4.173340</td>\n",
       "    </tr>\n",
       "    <tr>\n",
       "      <th>2019-01-03</th>\n",
       "      <td>4.200379</td>\n",
       "    </tr>\n",
       "    <tr>\n",
       "      <th>2019-01-04</th>\n",
       "      <td>4.244683</td>\n",
       "    </tr>\n",
       "    <tr>\n",
       "      <th>2019-01-05</th>\n",
       "      <td>4.206857</td>\n",
       "    </tr>\n",
       "  </tbody>\n",
       "</table>\n",
       "</div>"
      ],
      "text/plain": [
       "            Estimated_Price\n",
       "2019-01-01         4.119000\n",
       "2019-01-02         4.173340\n",
       "2019-01-03         4.200379\n",
       "2019-01-04         4.244683\n",
       "2019-01-05         4.206857"
      ]
     },
     "execution_count": 45,
     "metadata": {},
     "output_type": "execute_result"
    }
   ],
   "source": [
    "future_df.head()"
   ]
  },
  {
   "cell_type": "code",
   "execution_count": 46,
   "id": "ff1969e7-c122-4f4c-b0c9-5b04d27e83b1",
   "metadata": {},
   "outputs": [
    {
     "data": {
      "text/plain": [
       "3.70809023097896"
      ]
     },
     "execution_count": 46,
     "metadata": {},
     "output_type": "execute_result"
    }
   ],
   "source": [
    "future_df[\"Estimated_Price\"].mean()"
   ]
  },
  {
   "cell_type": "markdown",
   "id": "0beea7ed-1772-46d9-a9a8-c1bd7512b6d0",
   "metadata": {},
   "source": [
    "Now let's calculate the price of the call\n",
    "The price of the call is given by the black scholes formula\n",
    "Ct = St*Phi(d1) -K*Phi(d2) ou Phi est la fonction de répartition d'une loi gaussienne centrée réduite\n",
    "d1 et d2 sont des données à calculer"
   ]
  },
  {
   "cell_type": "markdown",
   "id": "1827a56e-55ab-4d54-91da-5b5b916eac36",
   "metadata": {},
   "source": [
    "T = 22 (one month maturity) et t=1 (one day) \n",
    "meaning that T-t=21\n",
    "K = S0 = 4,119"
   ]
  },
  {
   "cell_type": "code",
   "execution_count": 50,
   "id": "3a1b8e9f-953d-4658-812f-293b1648a034",
   "metadata": {},
   "outputs": [],
   "source": [
    "K = S0\n",
    "r = 0\n",
    "T_minus_t =21\n",
    "future_df['d1'] = (np.log(future_df['Estimated_Price'] / K) + (r + 0.5 * sigma**2) * T_minus_t) / (sigma * np.sqrt(T_minus_t))\n",
    "future_df['d2'] = future_df['d1'] - sigma * np.sqrt(T_minus_t)"
   ]
  },
  {
   "cell_type": "code",
   "execution_count": 51,
   "id": "be6b2467-6045-4a3f-bf03-ba3be64d17c1",
   "metadata": {},
   "outputs": [
    {
     "data": {
      "text/html": [
       "<div>\n",
       "<style scoped>\n",
       "    .dataframe tbody tr th:only-of-type {\n",
       "        vertical-align: middle;\n",
       "    }\n",
       "\n",
       "    .dataframe tbody tr th {\n",
       "        vertical-align: top;\n",
       "    }\n",
       "\n",
       "    .dataframe thead th {\n",
       "        text-align: right;\n",
       "    }\n",
       "</style>\n",
       "<table border=\"1\" class=\"dataframe\">\n",
       "  <thead>\n",
       "    <tr style=\"text-align: right;\">\n",
       "      <th></th>\n",
       "      <th>Estimated_Price</th>\n",
       "      <th>d1</th>\n",
       "      <th>d2</th>\n",
       "    </tr>\n",
       "  </thead>\n",
       "  <tbody>\n",
       "    <tr>\n",
       "      <th>2019-01-01</th>\n",
       "      <td>4.119000</td>\n",
       "      <td>0.034642</td>\n",
       "      <td>-0.034642</td>\n",
       "    </tr>\n",
       "    <tr>\n",
       "      <th>2019-01-02</th>\n",
       "      <td>4.173340</td>\n",
       "      <td>0.223807</td>\n",
       "      <td>0.154522</td>\n",
       "    </tr>\n",
       "    <tr>\n",
       "      <th>2019-01-03</th>\n",
       "      <td>4.200379</td>\n",
       "      <td>0.317017</td>\n",
       "      <td>0.247732</td>\n",
       "    </tr>\n",
       "    <tr>\n",
       "      <th>2019-01-04</th>\n",
       "      <td>4.244683</td>\n",
       "      <td>0.468457</td>\n",
       "      <td>0.399172</td>\n",
       "    </tr>\n",
       "    <tr>\n",
       "      <th>2019-01-05</th>\n",
       "      <td>4.206857</td>\n",
       "      <td>0.339259</td>\n",
       "      <td>0.269974</td>\n",
       "    </tr>\n",
       "  </tbody>\n",
       "</table>\n",
       "</div>"
      ],
      "text/plain": [
       "            Estimated_Price        d1        d2\n",
       "2019-01-01         4.119000  0.034642 -0.034642\n",
       "2019-01-02         4.173340  0.223807  0.154522\n",
       "2019-01-03         4.200379  0.317017  0.247732\n",
       "2019-01-04         4.244683  0.468457  0.399172\n",
       "2019-01-05         4.206857  0.339259  0.269974"
      ]
     },
     "execution_count": 51,
     "metadata": {},
     "output_type": "execute_result"
    }
   ],
   "source": [
    "future_df.head()"
   ]
  },
  {
   "cell_type": "markdown",
   "id": "62b2454a-afc2-4315-9c73-587e6e1cf7e1",
   "metadata": {},
   "source": [
    "Now we're going to calculate the call price "
   ]
  },
  {
   "cell_type": "code",
   "execution_count": 53,
   "id": "700d9bea-b8a5-4704-976b-2cbc8d9bc3b6",
   "metadata": {},
   "outputs": [],
   "source": [
    "from scipy.stats import norm\n",
    "future_df['Call_Price'] = future_df['Estimated_Price']*norm.cdf(future_df['d1']) - K*np.exp(-r * T_minus_t)*norm.cdf(future_df['d2'])"
   ]
  },
  {
   "cell_type": "code",
   "execution_count": 54,
   "id": "62ab2062-52a5-44bc-8caa-960e23bea317",
   "metadata": {},
   "outputs": [
    {
     "data": {
      "text/html": [
       "<div>\n",
       "<style scoped>\n",
       "    .dataframe tbody tr th:only-of-type {\n",
       "        vertical-align: middle;\n",
       "    }\n",
       "\n",
       "    .dataframe tbody tr th {\n",
       "        vertical-align: top;\n",
       "    }\n",
       "\n",
       "    .dataframe thead th {\n",
       "        text-align: right;\n",
       "    }\n",
       "</style>\n",
       "<table border=\"1\" class=\"dataframe\">\n",
       "  <thead>\n",
       "    <tr style=\"text-align: right;\">\n",
       "      <th></th>\n",
       "      <th>Estimated_Price</th>\n",
       "      <th>d1</th>\n",
       "      <th>d2</th>\n",
       "      <th>Call_Price</th>\n",
       "    </tr>\n",
       "  </thead>\n",
       "  <tbody>\n",
       "    <tr>\n",
       "      <th>2019-01-01</th>\n",
       "      <td>4.119000</td>\n",
       "      <td>0.034642</td>\n",
       "      <td>-0.034642</td>\n",
       "      <td>0.113829</td>\n",
       "    </tr>\n",
       "    <tr>\n",
       "      <th>2019-01-02</th>\n",
       "      <td>4.173340</td>\n",
       "      <td>0.223807</td>\n",
       "      <td>0.154522</td>\n",
       "      <td>0.143793</td>\n",
       "    </tr>\n",
       "    <tr>\n",
       "      <th>2019-01-03</th>\n",
       "      <td>4.200379</td>\n",
       "      <td>0.317017</td>\n",
       "      <td>0.247732</td>\n",
       "      <td>0.160194</td>\n",
       "    </tr>\n",
       "    <tr>\n",
       "      <th>2019-01-04</th>\n",
       "      <td>4.244683</td>\n",
       "      <td>0.468457</td>\n",
       "      <td>0.399172</td>\n",
       "      <td>0.189109</td>\n",
       "    </tr>\n",
       "    <tr>\n",
       "      <th>2019-01-05</th>\n",
       "      <td>4.206857</td>\n",
       "      <td>0.339259</td>\n",
       "      <td>0.269974</td>\n",
       "      <td>0.164265</td>\n",
       "    </tr>\n",
       "  </tbody>\n",
       "</table>\n",
       "</div>"
      ],
      "text/plain": [
       "            Estimated_Price        d1        d2  Call_Price\n",
       "2019-01-01         4.119000  0.034642 -0.034642    0.113829\n",
       "2019-01-02         4.173340  0.223807  0.154522    0.143793\n",
       "2019-01-03         4.200379  0.317017  0.247732    0.160194\n",
       "2019-01-04         4.244683  0.468457  0.399172    0.189109\n",
       "2019-01-05         4.206857  0.339259  0.269974    0.164265"
      ]
     },
     "execution_count": 54,
     "metadata": {},
     "output_type": "execute_result"
    }
   ],
   "source": [
    "future_df.head()"
   ]
  },
  {
   "cell_type": "markdown",
   "id": "b384776d-0164-4690-9b68-ed37aec8efbc",
   "metadata": {},
   "source": [
    "Now we can easily calculate the VaR using the empirical VaR (empirical quatile of these call prices)"
   ]
  },
  {
   "cell_type": "code",
   "execution_count": 55,
   "id": "7c5c770d-7569-41e5-a0d9-d340403d0f86",
   "metadata": {},
   "outputs": [],
   "source": [
    "confidence_level = 0.95"
   ]
  },
  {
   "cell_type": "code",
   "execution_count": 58,
   "id": "7dd7d951-036c-48e1-8297-209e7023d315",
   "metadata": {},
   "outputs": [],
   "source": [
    "def empirical_var(returns, confidence_level):\n",
    "    returns = returns.sort_values(ascending = False)\n",
    "    return -np.percentile(returns, (1 - confidence_level) * 100)"
   ]
  },
  {
   "cell_type": "code",
   "execution_count": 62,
   "id": "39930b96-3c6e-463e-adbf-11e228522743",
   "metadata": {},
   "outputs": [
    {
     "name": "stdout",
     "output_type": "stream",
     "text": [
      "\n",
      "Historical VaR at 95.0% confidence level: -1.3295589326003506e-12\n"
     ]
    }
   ],
   "source": [
    "VaR = empirical_var(future_df.loc[:,'Call_Price'],confidence_level)\n",
    "print(f\"\\nHistorical VaR at {confidence_level * 100}% confidence level: {VaR}\")"
   ]
  },
  {
   "cell_type": "code",
   "execution_count": 63,
   "id": "f9d59460-4094-4539-8807-ad5d3167d664",
   "metadata": {},
   "outputs": [
    {
     "name": "stdout",
     "output_type": "stream",
     "text": [
      "\n",
      "Historical VaR at 95.0% confidence level: 0.06008285066384538\n"
     ]
    }
   ],
   "source": [
    "price_changes = future_df['Call_Price'].diff()\n",
    "VaR2 = empirical_var(price_changes.dropna(), confidence_level)\n",
    "print(f\"\\nHistorical VaR at {confidence_level * 100}% confidence level: {VaR2}\")"
   ]
  },
  {
   "cell_type": "code",
   "execution_count": null,
   "id": "856596c8-44e2-4f80-b098-9181fc2f3fb3",
   "metadata": {},
   "outputs": [],
   "source": []
  }
 ],
 "metadata": {
  "kernelspec": {
   "display_name": "Python 3 (ipykernel)",
   "language": "python",
   "name": "python3"
  },
  "language_info": {
   "codemirror_mode": {
    "name": "ipython",
    "version": 3
   },
   "file_extension": ".py",
   "mimetype": "text/x-python",
   "name": "python",
   "nbconvert_exporter": "python",
   "pygments_lexer": "ipython3",
   "version": "3.11.7"
  }
 },
 "nbformat": 4,
 "nbformat_minor": 5
}
