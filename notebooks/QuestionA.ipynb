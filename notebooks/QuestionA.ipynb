{
 "cells": [
  {
   "cell_type": "code",
   "execution_count": 1,
   "id": "0aae784b-b179-4c08-8395-cacb5a9d909d",
   "metadata": {},
   "outputs": [],
   "source": [
    "import pandas as pd\n",
    "import numpy as np\n",
    "import matplotlib.pyplot as plt\n",
    "import scipy.stats as stats\n",
    "from scipy.stats import norm"
   ]
  },
  {
   "cell_type": "markdown",
   "id": "03e13ad3-c768-403b-b26e-edde73309c4f",
   "metadata": {},
   "source": [
    "# Question A"
   ]
  },
  {
   "cell_type": "markdown",
   "id": "b0d84984-0d85-46d7-ac1c-dc22a3a50e88",
   "metadata": {},
   "source": [
    "## a/"
   ]
  },
  {
   "cell_type": "code",
   "execution_count": 2,
   "id": "36b4ae1d-3214-4214-b621-913aa9e1c9b7",
   "metadata": {},
   "outputs": [],
   "source": [
    "df = pd.read_excel('Natixis_ihab.xlsx', header=None, names=['Date', 'Price'])"
   ]
  },
  {
   "cell_type": "code",
   "execution_count": 3,
   "id": "1b495435-14f1-46d2-abec-377ae5c142e7",
   "metadata": {},
   "outputs": [
    {
     "data": {
      "text/html": [
       "<div>\n",
       "<style scoped>\n",
       "    .dataframe tbody tr th:only-of-type {\n",
       "        vertical-align: middle;\n",
       "    }\n",
       "\n",
       "    .dataframe tbody tr th {\n",
       "        vertical-align: top;\n",
       "    }\n",
       "\n",
       "    .dataframe thead th {\n",
       "        text-align: right;\n",
       "    }\n",
       "</style>\n",
       "<table border=\"1\" class=\"dataframe\">\n",
       "  <thead>\n",
       "    <tr style=\"text-align: right;\">\n",
       "      <th></th>\n",
       "      <th>Date</th>\n",
       "      <th>Price</th>\n",
       "    </tr>\n",
       "  </thead>\n",
       "  <tbody>\n",
       "    <tr>\n",
       "      <th>0</th>\n",
       "      <td>2015-01-02</td>\n",
       "      <td>5.621</td>\n",
       "    </tr>\n",
       "    <tr>\n",
       "      <th>1</th>\n",
       "      <td>2015-01-05</td>\n",
       "      <td>5.424</td>\n",
       "    </tr>\n",
       "    <tr>\n",
       "      <th>2</th>\n",
       "      <td>2015-01-06</td>\n",
       "      <td>5.329</td>\n",
       "    </tr>\n",
       "    <tr>\n",
       "      <th>3</th>\n",
       "      <td>2015-01-07</td>\n",
       "      <td>5.224</td>\n",
       "    </tr>\n",
       "    <tr>\n",
       "      <th>4</th>\n",
       "      <td>2015-01-08</td>\n",
       "      <td>5.453</td>\n",
       "    </tr>\n",
       "  </tbody>\n",
       "</table>\n",
       "</div>"
      ],
      "text/plain": [
       "        Date  Price\n",
       "0 2015-01-02  5.621\n",
       "1 2015-01-05  5.424\n",
       "2 2015-01-06  5.329\n",
       "3 2015-01-07  5.224\n",
       "4 2015-01-08  5.453"
      ]
     },
     "execution_count": 3,
     "metadata": {},
     "output_type": "execute_result"
    }
   ],
   "source": [
    "df.head()"
   ]
  },
  {
   "cell_type": "code",
   "execution_count": 4,
   "id": "f02af74a-1cf9-468c-9043-86052fb8fdcd",
   "metadata": {},
   "outputs": [
    {
     "data": {
      "text/plain": [
       "Date     datetime64[ns]\n",
       "Price           float64\n",
       "dtype: object"
      ]
     },
     "execution_count": 4,
     "metadata": {},
     "output_type": "execute_result"
    }
   ],
   "source": [
    "df.dtypes"
   ]
  },
  {
   "cell_type": "code",
   "execution_count": 5,
   "id": "830d3697-141a-4bce-96e6-921768e21fc5",
   "metadata": {},
   "outputs": [],
   "source": [
    "df['Price'] = pd.to_numeric(df['Price'])\n",
    "df['Return'] = df['Price'].pct_change(1)"
   ]
  },
  {
   "cell_type": "code",
   "execution_count": 6,
   "id": "a7fa94a4-4b32-45d2-a21c-2b279b6fe310",
   "metadata": {},
   "outputs": [],
   "source": [
    "df.set_index('Date', inplace = True)"
   ]
  },
  {
   "cell_type": "code",
   "execution_count": 7,
   "id": "b3d4acc8-80e6-4a99-83a8-b986be7c49e5",
   "metadata": {},
   "outputs": [
    {
     "data": {
      "text/html": [
       "<div>\n",
       "<style scoped>\n",
       "    .dataframe tbody tr th:only-of-type {\n",
       "        vertical-align: middle;\n",
       "    }\n",
       "\n",
       "    .dataframe tbody tr th {\n",
       "        vertical-align: top;\n",
       "    }\n",
       "\n",
       "    .dataframe thead th {\n",
       "        text-align: right;\n",
       "    }\n",
       "</style>\n",
       "<table border=\"1\" class=\"dataframe\">\n",
       "  <thead>\n",
       "    <tr style=\"text-align: right;\">\n",
       "      <th></th>\n",
       "      <th>Price</th>\n",
       "      <th>Return</th>\n",
       "    </tr>\n",
       "    <tr>\n",
       "      <th>Date</th>\n",
       "      <th></th>\n",
       "      <th></th>\n",
       "    </tr>\n",
       "  </thead>\n",
       "  <tbody>\n",
       "    <tr>\n",
       "      <th>2015-01-02</th>\n",
       "      <td>5.621</td>\n",
       "      <td>NaN</td>\n",
       "    </tr>\n",
       "    <tr>\n",
       "      <th>2015-01-05</th>\n",
       "      <td>5.424</td>\n",
       "      <td>-0.035047</td>\n",
       "    </tr>\n",
       "    <tr>\n",
       "      <th>2015-01-06</th>\n",
       "      <td>5.329</td>\n",
       "      <td>-0.017515</td>\n",
       "    </tr>\n",
       "    <tr>\n",
       "      <th>2015-01-07</th>\n",
       "      <td>5.224</td>\n",
       "      <td>-0.019704</td>\n",
       "    </tr>\n",
       "    <tr>\n",
       "      <th>2015-01-08</th>\n",
       "      <td>5.453</td>\n",
       "      <td>0.043836</td>\n",
       "    </tr>\n",
       "  </tbody>\n",
       "</table>\n",
       "</div>"
      ],
      "text/plain": [
       "            Price    Return\n",
       "Date                       \n",
       "2015-01-02  5.621       NaN\n",
       "2015-01-05  5.424 -0.035047\n",
       "2015-01-06  5.329 -0.017515\n",
       "2015-01-07  5.224 -0.019704\n",
       "2015-01-08  5.453  0.043836"
      ]
     },
     "execution_count": 7,
     "metadata": {},
     "output_type": "execute_result"
    }
   ],
   "source": [
    "df.head()"
   ]
  },
  {
   "cell_type": "code",
   "execution_count": 8,
   "id": "6cb19b9d-e13f-4572-97c6-c9e67acf6f37",
   "metadata": {},
   "outputs": [],
   "source": [
    "# Here we're going to select data bztween January 2015 and December 2016\n",
    "df1 = df.loc['2015-01-01':'2016-12-30', 'Return'].dropna()"
   ]
  },
  {
   "cell_type": "code",
   "execution_count": 9,
   "id": "9a2195b2-cd7d-4bf8-959b-cd61afdf06ab",
   "metadata": {},
   "outputs": [
    {
     "data": {
      "text/plain": [
       "Date\n",
       "2015-01-05   -0.035047\n",
       "2015-01-06   -0.017515\n",
       "2015-01-07   -0.019704\n",
       "2015-01-08    0.043836\n",
       "2015-01-09   -0.020723\n",
       "Name: Return, dtype: float64"
      ]
     },
     "execution_count": 9,
     "metadata": {},
     "output_type": "execute_result"
    }
   ],
   "source": [
    "df1.head()"
   ]
  },
  {
   "cell_type": "code",
   "execution_count": 10,
   "id": "69cf9dab-5361-4a1d-b760-6e9c88f80bd2",
   "metadata": {},
   "outputs": [
    {
     "data": {
      "text/plain": [
       "Date\n",
       "2016-12-23   -0.008118\n",
       "2016-12-27    0.000744\n",
       "2016-12-28   -0.000186\n",
       "2016-12-29   -0.009481\n",
       "2016-12-30    0.006006\n",
       "Name: Return, dtype: float64"
      ]
     },
     "execution_count": 10,
     "metadata": {},
     "output_type": "execute_result"
    }
   ],
   "source": [
    "df1.tail()"
   ]
  },
  {
   "cell_type": "code",
   "execution_count": 11,
   "id": "ca231a7e-10c9-4051-9317-2c66e85f7204",
   "metadata": {},
   "outputs": [],
   "source": [
    "# Apparently its working because the first date is January 2015 and the last date is December 2016"
   ]
  },
  {
   "cell_type": "code",
   "execution_count": 12,
   "id": "cae62f2a-4b9c-4db1-9d79-9931e7874b86",
   "metadata": {},
   "outputs": [],
   "source": [
    "# VaR calculation based on a non parametric disribution, here we consider the logistic Kernel"
   ]
  },
  {
   "cell_type": "code",
   "execution_count": 15,
   "id": "612f17cd-e351-495e-8c18-7a9de36f20cd",
   "metadata": {},
   "outputs": [],
   "source": [
    "# First we're going to define the logistic kernel which is the derivative of the logistic function\n",
    "# which is defined by 1/ (1 + exp(-x)), this yields to K = exp(-x)/(1 + exp(-x)**2"
   ]
  },
  {
   "cell_type": "code",
   "execution_count": 34,
   "id": "ece9848f-c2ee-4fbb-ba4c-71742b52df36",
   "metadata": {},
   "outputs": [],
   "source": [
    "#Step 1 : Calculating the logistic kernel\n",
    "def logistic_kernel(l):\n",
    "    return np.exp(-l) / (1 + np.exp(-l))**2"
   ]
  },
  {
   "cell_type": "code",
   "execution_count": 25,
   "id": "cdea24e5-ffa5-4c82-9ce2-cec0c9403d9a",
   "metadata": {},
   "outputs": [],
   "source": [
    "# Step 2 : Estimating the kernel density\n",
    "def kernel_density_estimation(x, data, h):\n",
    "    n = len(data)\n",
    "    l = (x - data) / h #normalizing\n",
    "    kde = np.sum(logistic_kernel(l)) / (n * h)\n",
    "    return kde "
   ]
  },
  {
   "cell_type": "code",
   "execution_count": 67,
   "id": "723239dd-0572-49e2-8916-c742e33d9cc0",
   "metadata": {},
   "outputs": [],
   "source": [
    "# Caculating our parameters n and h\n",
    "n = len(df1)\n",
    "h = 1.06 * np.std(df1) * (n ** (-1/5))"
   ]
  },
  {
   "cell_type": "code",
   "execution_count": 77,
   "id": "621014f2-8529-4ca1-bd36-3575b525adf2",
   "metadata": {},
   "outputs": [],
   "source": [
    "range_of_x = np.linspace(min(df1), max(df1), num = 10000)"
   ]
  },
  {
   "cell_type": "code",
   "execution_count": 48,
   "id": "3f66fb24-6809-41c3-a20f-d0c797b7f4b1",
   "metadata": {},
   "outputs": [],
   "source": [
    "# Step 3 : Now we're going to group all the kde values gerated from the function above \n",
    "kde_values_logistic = [kernel_density_estimation(x, df1, h) for x in range_of_x]"
   ]
  },
  {
   "cell_type": "code",
   "execution_count": 42,
   "id": "b9799e63-7dd0-4e63-9989-63ab93675b2c",
   "metadata": {},
   "outputs": [],
   "source": [
    "#We're going to reapeat the exact same steps for the cdf "
   ]
  },
  {
   "cell_type": "code",
   "execution_count": 43,
   "id": "8b020993-7ff2-4cb8-ae1c-9cb481f18814",
   "metadata": {},
   "outputs": [],
   "source": [
    "#Step 1 : Calculating the logistic function \n",
    "def cdf_logistic_kernel(l):\n",
    "    return 1 / (1 + np.exp(-l))"
   ]
  },
  {
   "cell_type": "code",
   "execution_count": 44,
   "id": "f41da057-c660-4402-8791-0f39e654baa2",
   "metadata": {},
   "outputs": [],
   "source": [
    "# Step 2 : Estimating  the logistic kernel cumulative \n",
    "def empirical_cdf(x, data, h):\n",
    "    n = len(data)\n",
    "    l = (x - data) / h\n",
    "    kce = np.sum(cdf_logistic_kernel(l)) / n\n",
    "    return kce"
   ]
  },
  {
   "cell_type": "code",
   "execution_count": 49,
   "id": "f33e20c2-4412-4d5b-a99d-5b0cb3031be9",
   "metadata": {},
   "outputs": [],
   "source": [
    "#Step 3 : Group all the kce values\n",
    "kce_values_logistic = [empirical_cdf(x, df1, h) for x in range_of_x]"
   ]
  },
  {
   "cell_type": "code",
   "execution_count": 68,
   "id": "3d59b476-0f72-48d6-a773-268dead495d0",
   "metadata": {},
   "outputs": [],
   "source": [
    "# Method 1\n",
    "# On utilise une dichotomie pour trouver la VaR\n",
    "def quantile_empirique(fdr, alpha, a, b, epsilon, max_iter, h, returns):\n",
    "    iter = 0\n",
    "    alpha = 1 - alpha\n",
    "    while b - a > epsilon and iter < max_iter:\n",
    "        iter += 1\n",
    "        m = (a + b) / 2\n",
    "        F = fdr(m, returns, h)\n",
    "        if abs(F - alpha) < epsilon:\n",
    "            return -m\n",
    "        elif F < alpha:\n",
    "            a = m\n",
    "        else :\n",
    "            b = m\n",
    "    return \"Max iteration reached\""
   ]
  },
  {
   "cell_type": "code",
   "execution_count": 69,
   "id": "ad2f55bd-7036-48cc-bba3-32038a3ee64b",
   "metadata": {},
   "outputs": [
    {
     "name": "stdout",
     "output_type": "stream",
     "text": [
      "\n",
      "Non Parametric VaR at 95.0% confidence level: 0.0433349609375\n"
     ]
    }
   ],
   "source": [
    "confidence_level = 0.95\n",
    "non_param_VaR = quantile_empirique(empirical_cdf, alpha=0.95, a=-1, b=1, epsilon=0.0001, max_iter=1000000, h=h, returns=df1)\n",
    "print(f\"\\nNon Parametric VaR at {confidence_level * 100}% confidence level: {non_param_VaR}\")"
   ]
  },
  {
   "cell_type": "code",
   "execution_count": 74,
   "id": "083eab00-ed40-456b-af5f-4f208815d2c6",
   "metadata": {},
   "outputs": [
    {
     "name": "stdout",
     "output_type": "stream",
     "text": [
      "Non-Parametric_VaR (Logistic_Kernel) at 95.0% confidence level: -0.0433\n"
     ]
    }
   ],
   "source": [
    "# Method 2\n",
    "confidence_level = 0.95\n",
    "non_parametric_var_logistic = None\n",
    "\n",
    "for i, cdf in enumerate(kce_values_logistic):\n",
    "    if cdf >= (1 - confidence_level):\n",
    "        non_parametric_var_logistic = range_of_x[i]\n",
    "        break\n",
    "\n",
    "non_parametric_var_logistic_message = (\n",
    "    f\"Non-Parametric_VaR (Logistic_Kernel) at {confidence_level * 100}% confidence level: \"\n",
    "    f\"{non_parametric_var_logistic:.4f}\"\n",
    ")\n",
    "print(non_parametric_var_logistic_message)\n"
   ]
  },
  {
   "cell_type": "code",
   "execution_count": 78,
   "id": "a3d9461d-e2e8-4aca-b391-898e90ddbcec",
   "metadata": {},
   "outputs": [
    {
     "data": {
      "image/png": "[encoded data removed]",
      "text/plain": [
       "<Figure size 1000x600 with 1 Axes>"
      ]
     },
     "metadata": {},
     "output_type": "display_data"
    }
   ],
   "source": [
    "# Plotting\n",
    "plt.figure(figsize=(10, 6))\n",
    "plt.plot(range_of_x, kde_values_logistic, label='Density (Logistic Kernel)', color='blue')\n",
    "plt.plot(range_of_x, kce_values_logistic, label='Empirical CDF', color='green')\n",
    "plt.axvline(x=non_parametric_var_logistic, color='red', linestyle='--', label='VaR')\n",
    "plt.xlabel('Return')\n",
    "plt.ylabel('Density / CDF')\n",
    "plt.title('Non-Parametric VaR with Logistic Kernel')\n",
    "plt.grid(True)\n",
    "plt.legend()\n",
    "plt.show()\n"
   ]
  },
  {
   "cell_type": "markdown",
   "id": "f87fa4f9-95bd-4d0f-9f11-de4057e20ad7",
   "metadata": {},
   "source": [
    "## b/"
   ]
  },
  {
   "cell_type": "code",
   "execution_count": 79,
   "id": "e3bd93b6-2394-48a2-90f7-9d3db9acd2ad",
   "metadata": {},
   "outputs": [
    {
     "name": "stdout",
     "output_type": "stream",
     "text": [
      "Observed exceedance proportion: 0.0137\n",
      "Expected exceedance proportion: 0.0500\n",
      "Validation result: Valid\n"
     ]
    }
   ],
   "source": [
    "# data for the period from January 2017 to December 2018\n",
    "data_2017_2018 = df.loc['2017-01-01':'2018-12-31', 'Return'].dropna()\n",
    "\n",
    "# VaR threshold\n",
    "var_threshold = -0.0433  # Example VaR value obtained earlier\n",
    "\n",
    "#  exceedances (returns below the threshold)\n",
    "exceedances = data_2017_2018 < var_threshold\n",
    "\n",
    "# Calculate the proportion of exceedances\n",
    "exceedance_proportion = exceedances.sum() / len(data_2017_2018)\n",
    "\n",
    "# confidence level and expected exceedance proportion\n",
    "confidence_level = 0.95\n",
    "expected_proportion = 1 - confidence_level\n",
    "\n",
    "# Validation: Check if the observed exceedance proportion matches the expected\n",
    "validation = exceedance_proportion <= expected_proportion\n",
    "\n",
    "# Print the results\n",
    "print(f\"Observed exceedance proportion: {exceedance_proportion:.4f}\")\n",
    "print(f\"Expected exceedance proportion: {expected_proportion:.4f}\")\n",
    "print(f\"Validation result: {'Valid' if validation else 'Not Valid'}\")\n"
   ]
  }
 ],
 "metadata": {
  "kernelspec": {
   "display_name": "Python 3 (ipykernel)",
   "language": "python",
   "name": "python3"
  },
  "language_info": {
   "codemirror_mode": {
    "name": "ipython",
    "version": 3
   },
   "file_extension": ".py",
   "mimetype": "text/x-python",
   "name": "python",
   "nbconvert_exporter": "python",
   "pygments_lexer": "ipython3",
   "version": "3.11.7"
  }
 },
 "nbformat": 4,
 "nbformat_minor": 5
}
