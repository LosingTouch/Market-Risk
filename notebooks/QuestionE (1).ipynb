{
 "cells": [
  {
   "cell_type": "code",
   "execution_count": 1,
   "id": "83fe3023-9591-49d7-99eb-ece4b69d8600",
   "metadata": {},
   "outputs": [],
   "source": [
    "import pandas as pd\n",
    "import numpy as np\n",
    "import matplotlib.pyplot as plt\n",
    "import scipy.stats as stats\n",
    "from scipy.stats import norm"
   ]
  },
  {
   "cell_type": "code",
   "execution_count": 13,
   "id": "8072bb18-4d2b-457c-92b9-047d6c23156c",
   "metadata": {},
   "outputs": [],
   "source": [
    "Currencies = pd.read_csv(\"Dataset-TD5-csv.csv\")"
   ]
  },
  {
   "cell_type": "code",
   "execution_count": 14,
   "id": "581319d9-c836-4803-88f6-2d40ed37eba9",
   "metadata": {},
   "outputs": [],
   "source": [
    "# Split dataset and calculate averages\n",
    "GBPEUR = Currencies.iloc[:, :3]\n",
    "SEKEUR = Currencies.iloc[:, 3:6]\n",
    "CADEUR = Currencies.iloc[:, 6:]\n",
    "\n",
    "GBPEUR['GBPEUR_AVG'] = GBPEUR.iloc[:, [1, 2]].mean(axis=1)\n",
    "SEKEUR['SEKEUR_AVG'] = SEKEUR.iloc[:, [1, 2]].mean(axis=1)\n",
    "CADEUR['CADEUR_AVG'] = CADEUR.iloc[:, [1, 2]].mean(axis=1)"
   ]
  },
  {
   "cell_type": "code",
   "execution_count": 15,
   "id": "1e31e30f-c5c4-4b61-b001-b15bc5205b8e",
   "metadata": {},
   "outputs": [],
   "source": [
    "# Work with the last 513 data points\n",
    "GBPEUR = GBPEUR.iloc[-513:]\n",
    "SEKEUR = SEKEUR.iloc[-513:]\n",
    "CADEUR = CADEUR.iloc[-513:]"
   ]
  },
  {
   "cell_type": "code",
   "execution_count": 16,
   "id": "0daf198d-8c37-42a3-bc2c-9a10979f1a6e",
   "metadata": {},
   "outputs": [
    {
     "data": {
      "text/html": [
       "<div>\n",
       "<style scoped>\n",
       "    .dataframe tbody tr th:only-of-type {\n",
       "        vertical-align: middle;\n",
       "    }\n",
       "\n",
       "    .dataframe tbody tr th {\n",
       "        vertical-align: top;\n",
       "    }\n",
       "\n",
       "    .dataframe thead th {\n",
       "        text-align: right;\n",
       "    }\n",
       "</style>\n",
       "<table border=\"1\" class=\"dataframe\">\n",
       "  <thead>\n",
       "    <tr style=\"text-align: right;\">\n",
       "      <th></th>\n",
       "      <th>GBPEUR Date</th>\n",
       "      <th>GBPEUR HIGH</th>\n",
       "      <th>GBPEUR LOW</th>\n",
       "      <th>GBPEUR_AVG</th>\n",
       "    </tr>\n",
       "  </thead>\n",
       "  <tbody>\n",
       "    <tr>\n",
       "      <th>12416</th>\n",
       "      <td>8/31/2016 12:00</td>\n",
       "      <td>1.1783</td>\n",
       "      <td>1.1778</td>\n",
       "      <td>1.17805</td>\n",
       "    </tr>\n",
       "    <tr>\n",
       "      <th>12417</th>\n",
       "      <td>8/31/2016 12:15</td>\n",
       "      <td>1.1785</td>\n",
       "      <td>1.1778</td>\n",
       "      <td>1.17815</td>\n",
       "    </tr>\n",
       "    <tr>\n",
       "      <th>12418</th>\n",
       "      <td>8/31/2016 12:30</td>\n",
       "      <td>1.1796</td>\n",
       "      <td>1.1782</td>\n",
       "      <td>1.17890</td>\n",
       "    </tr>\n",
       "    <tr>\n",
       "      <th>12419</th>\n",
       "      <td>8/31/2016 12:45</td>\n",
       "      <td>1.1798</td>\n",
       "      <td>1.1789</td>\n",
       "      <td>1.17935</td>\n",
       "    </tr>\n",
       "    <tr>\n",
       "      <th>12420</th>\n",
       "      <td>8/31/2016 13:00</td>\n",
       "      <td>1.1796</td>\n",
       "      <td>1.1789</td>\n",
       "      <td>1.17925</td>\n",
       "    </tr>\n",
       "  </tbody>\n",
       "</table>\n",
       "</div>"
      ],
      "text/plain": [
       "           GBPEUR Date  GBPEUR HIGH  GBPEUR LOW  GBPEUR_AVG\n",
       "12416  8/31/2016 12:00       1.1783      1.1778     1.17805\n",
       "12417  8/31/2016 12:15       1.1785      1.1778     1.17815\n",
       "12418  8/31/2016 12:30       1.1796      1.1782     1.17890\n",
       "12419  8/31/2016 12:45       1.1798      1.1789     1.17935\n",
       "12420  8/31/2016 13:00       1.1796      1.1789     1.17925"
      ]
     },
     "execution_count": 16,
     "metadata": {},
     "output_type": "execute_result"
    }
   ],
   "source": [
    "GBPEUR.head()"
   ]
  },
  {
   "cell_type": "code",
   "execution_count": 17,
   "id": "149f8461-9311-4045-a061-8ca55b9f63ee",
   "metadata": {},
   "outputs": [
    {
     "data": {
      "text/html": [
       "<div>\n",
       "<style scoped>\n",
       "    .dataframe tbody tr th:only-of-type {\n",
       "        vertical-align: middle;\n",
       "    }\n",
       "\n",
       "    .dataframe tbody tr th {\n",
       "        vertical-align: top;\n",
       "    }\n",
       "\n",
       "    .dataframe thead th {\n",
       "        text-align: right;\n",
       "    }\n",
       "</style>\n",
       "<table border=\"1\" class=\"dataframe\">\n",
       "  <thead>\n",
       "    <tr style=\"text-align: right;\">\n",
       "      <th></th>\n",
       "      <th>SEKEUR Date</th>\n",
       "      <th>SEKEUR HIGH</th>\n",
       "      <th>SEKEUR LOW</th>\n",
       "      <th>SEKEUR_AVG</th>\n",
       "    </tr>\n",
       "  </thead>\n",
       "  <tbody>\n",
       "    <tr>\n",
       "      <th>12416</th>\n",
       "      <td>8/31/2016 12:00</td>\n",
       "      <td>0.10510</td>\n",
       "      <td>0.10506</td>\n",
       "      <td>0.105080</td>\n",
       "    </tr>\n",
       "    <tr>\n",
       "      <th>12417</th>\n",
       "      <td>8/31/2016 12:15</td>\n",
       "      <td>0.10510</td>\n",
       "      <td>0.10508</td>\n",
       "      <td>0.105090</td>\n",
       "    </tr>\n",
       "    <tr>\n",
       "      <th>12418</th>\n",
       "      <td>8/31/2016 12:30</td>\n",
       "      <td>0.10510</td>\n",
       "      <td>0.10505</td>\n",
       "      <td>0.105075</td>\n",
       "    </tr>\n",
       "    <tr>\n",
       "      <th>12419</th>\n",
       "      <td>8/31/2016 12:45</td>\n",
       "      <td>0.10512</td>\n",
       "      <td>0.10506</td>\n",
       "      <td>0.105090</td>\n",
       "    </tr>\n",
       "    <tr>\n",
       "      <th>12420</th>\n",
       "      <td>8/31/2016 13:00</td>\n",
       "      <td>0.10514</td>\n",
       "      <td>0.10508</td>\n",
       "      <td>0.105110</td>\n",
       "    </tr>\n",
       "  </tbody>\n",
       "</table>\n",
       "</div>"
      ],
      "text/plain": [
       "           SEKEUR Date  SEKEUR HIGH  SEKEUR LOW  SEKEUR_AVG\n",
       "12416  8/31/2016 12:00      0.10510     0.10506    0.105080\n",
       "12417  8/31/2016 12:15      0.10510     0.10508    0.105090\n",
       "12418  8/31/2016 12:30      0.10510     0.10505    0.105075\n",
       "12419  8/31/2016 12:45      0.10512     0.10506    0.105090\n",
       "12420  8/31/2016 13:00      0.10514     0.10508    0.105110"
      ]
     },
     "execution_count": 17,
     "metadata": {},
     "output_type": "execute_result"
    }
   ],
   "source": [
    "SEKEUR.head()"
   ]
  },
  {
   "cell_type": "code",
   "execution_count": 18,
   "id": "864d9db9-9199-4325-8bb2-410a089cf29e",
   "metadata": {},
   "outputs": [],
   "source": [
    "# Calculate returns Step 1\n",
    "GBPEUR_returns = GBPEUR['GBPEUR_AVG'].pct_change().dropna()\n",
    "SEKEUR_returns = SEKEUR['SEKEUR_AVG'].pct_change().dropna()\n",
    "CADEUR_returns = CADEUR['CADEUR_AVG'].pct_change().dropna()"
   ]
  },
  {
   "cell_type": "code",
   "execution_count": 19,
   "id": "7ea53e0b-e7dd-43a6-8898-af8374fc6ec0",
   "metadata": {},
   "outputs": [],
   "source": [
    "# Haar Transform Function Step 2\n",
    "def haar_transform(data):\n",
    "    n = len(data)\n",
    "    output = np.zeros(n)\n",
    "    while n > 1:\n",
    "        n = n // 2\n",
    "        for i in range(n):\n",
    "            output[i] = (data[2 * i] + data[2 * i + 1]) / 2\n",
    "            output[n + i] = (data[2 * i] - data[2 * i + 1]) / 2\n",
    "        data[:n] = output[:n]\n",
    "    return output"
   ]
  },
  {
   "cell_type": "code",
   "execution_count": 20,
   "id": "cfbfc030-e7ff-41bb-830d-acadd73dda93",
   "metadata": {},
   "outputs": [],
   "source": [
    "def multiresolution_correlation(haar1, haar2, level):\n",
    "    length = 2 ** level\n",
    "    truncated_haar1 = haar1[:length]\n",
    "    truncated_haar2 = haar2[:length]\n",
    "    return np.corrcoef(truncated_haar1, truncated_haar2)[0, 1]"
   ]
  },
  {
   "cell_type": "code",
   "execution_count": 21,
   "id": "b3f4aea4-9ddf-4f7a-a8ba-00fa1a011bef",
   "metadata": {},
   "outputs": [],
   "source": [
    "# Correlation Matrix at Level Step 3\n",
    "def correlation_matrix_at_level(level, haar_transforms):\n",
    "    matrix_size = len(haar_transforms)\n",
    "    correlation_matrix = np.zeros((matrix_size, matrix_size))\n",
    "    for i in range(matrix_size):\n",
    "        for j in range(i, matrix_size):\n",
    "            if i == j:\n",
    "                correlation_matrix[i, j] = 1\n",
    "            else:\n",
    "                correlation = multiresolution_correlation(\n",
    "                    haar_transforms[i], haar_transforms[j], level)\n",
    "                correlation_matrix[i, j] = correlation_matrix[j, i] = correlation\n",
    "    return correlation_matrix"
   ]
  },
  {
   "cell_type": "code",
   "execution_count": 38,
   "id": "eb610588-4fb4-48f4-b068-12a5bd0f7ae7",
   "metadata": {},
   "outputs": [],
   "source": [
    "# Hurst Exponent Calculation\n",
    "def Hurst(serie):\n",
    "    T = len(serie)\n",
    "    M2 = np.mean((np.abs(serie[1:] - serie[:-1]))**2) # absolute moment scale 1/N\n",
    "    M2_prime = np.mean(np.abs((serie[2:] - serie[:-2]))**2) # absolute moment scale 2/N\n",
    "    H_est = 0.5 * np.log2(M2_prime / M2)\n",
    "    return H_est"
   ]
  },
  {
   "cell_type": "code",
   "execution_count": 39,
   "id": "aa57314a-6006-413a-b19f-fcd92cc66013",
   "metadata": {},
   "outputs": [],
   "source": [
    "# Applying our Haar Transform\n",
    "gbpeur_haar = haar_transform(GBPEUR_returns.values)\n",
    "sekeur_haar = haar_transform(SEKEUR_returns.values)\n",
    "cadeur_haar = haar_transform(CADEUR_returns.values)"
   ]
  },
  {
   "cell_type": "code",
   "execution_count": 40,
   "id": "68dde687-2a8a-4778-8788-d512523ca255",
   "metadata": {},
   "outputs": [],
   "source": [
    "# Number of levels\n",
    "num_levels = 9\n",
    "\n",
    "haar_transforms = [gbpeur_haar, sekeur_haar, cadeur_haar]\n",
    "correlation_matrices = [correlation_matrix_at_level(level, haar_transforms) for level in range(num_levels)]"
   ]
  },
  {
   "cell_type": "code",
   "execution_count": 41,
   "id": "3d238552-f9cb-4870-a2c2-193401a2e1ed",
   "metadata": {},
   "outputs": [],
   "source": [
    "# Hurst Exponents\n",
    "hurst_gbpeur = Hurst(GBPEUR['GBPEUR_AVG'].values)\n",
    "hurst_sekeur = Hurst(SEKEUR['SEKEUR_AVG'].values)\n",
    "hurst_cadeur = Hurst(CADEUR['CADEUR_AVG'].values)"
   ]
  },
  {
   "cell_type": "code",
   "execution_count": 42,
   "id": "de345ec7-291a-45b4-a681-bde2832c94ef",
   "metadata": {},
   "outputs": [
    {
     "name": "stdout",
     "output_type": "stream",
     "text": [
      "Hurst Exponents: 0.6980759205067774 0.6583244952455628 0.6974012762332173\n"
     ]
    }
   ],
   "source": [
    "print(\"Hurst Exponents:\", hurst_gbpeur, hurst_sekeur, hurst_cadeur)"
   ]
  },
  {
   "cell_type": "code",
   "execution_count": 35,
   "id": "266743aa-7f7f-4885-8489-ad68091a3bfa",
   "metadata": {},
   "outputs": [],
   "source": [
    "# High-Frequency Volatilities\n",
    "vol_gbpeur_hf = np.std(GBPEUR_returns)\n",
    "vol_sekeur_hf = np.std(SEKEUR_returns)\n",
    "vol_cadeur_hf = np.std(CADEUR_returns)"
   ]
  },
  {
   "cell_type": "code",
   "execution_count": 36,
   "id": "bdeb7168-faf4-4db9-a993-fd1887d697ab",
   "metadata": {},
   "outputs": [],
   "source": [
    "volatility_gbpeur = [vol_gbpeur_hf * (2**j)**hurst_gbpeur for j in range(num_levels)]\n",
    "volatility_sekeur = [vol_sekeur_hf * (2**j)**hurst_sekeur for j in range(num_levels)]\n",
    "volatility_cadeur = [vol_cadeur_hf * (2**j)**hurst_cadeur for j in range(num_levels)]"
   ]
  },
  {
   "cell_type": "code",
   "execution_count": 37,
   "id": "4bd56f20-4d2c-44c3-a1f2-fc63de2fa4ae",
   "metadata": {},
   "outputs": [
    {
     "name": "stdout",
     "output_type": "stream",
     "text": [
      "Volatilities (GBPEUR): [0.0003563861551747842, 0.0005781794020294867, 0.0009380033878342624, 0.0015217601189183875, 0.0024688118290034145, 0.004005251400174237, 0.006497878287092208, 0.010541765800775352, 0.017102324988011865]\n",
      "Volatilities (SEKEUR): [0.0001826054371687138, 0.00028819678033825246, 0.00045484617262845316, 0.0007178603470584736, 0.0011329621065094917, 0.0017880958880737124, 0.002822059878769063, 0.004453912126568097, 0.00702938069472965]\n",
      "Volatilities (CADEUR): [0.0003058278629555568, 0.0004959247158512311, 0.0008041822004552435, 0.0013040467451173353, 0.002114617697940157, 0.003429024323847673, 0.005560441409807847, 0.009016707305596634, 0.014621323136576174]\n"
     ]
    }
   ],
   "source": [
    "print(\"Volatilities (GBPEUR):\", volatility_gbpeur)\n",
    "print(\"Volatilities (SEKEUR):\", volatility_sekeur)\n",
    "print(\"Volatilities (CADEUR):\", volatility_cadeur)"
   ]
  }
 ],
 "metadata": {
  "kernelspec": {
   "display_name": "Python 3 (ipykernel)",
   "language": "python",
   "name": "python3"
  },
  "language_info": {
   "codemirror_mode": {
    "name": "ipython",
    "version": 3
   },
   "file_extension": ".py",
   "mimetype": "text/x-python",
   "name": "python",
   "nbconvert_exporter": "python",
   "pygments_lexer": "ipython3",
   "version": "3.11.7"
  }
 },
 "nbformat": 4,
 "nbformat_minor": 5
}
